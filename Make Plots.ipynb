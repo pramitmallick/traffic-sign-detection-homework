{
 "cells": [
  {
   "cell_type": "code",
   "execution_count": 2,
   "metadata": {},
   "outputs": [],
   "source": [
    "import pickle\n",
    "import matplotlib.pyplot as plt"
   ]
  },
  {
   "cell_type": "code",
   "execution_count": 9,
   "metadata": {},
   "outputs": [
    {
     "name": "stdout",
     "output_type": "stream",
     "text": [
      "[147, 95.4780361757106]\n"
     ]
    }
   ],
   "source": [
    "d = pickle.load( open( \"convergencePlots_model_stn_lr2_conv.p\", \"rb\" ) )\n",
    "print(d['best_val_acc'])\n",
    "f, (ax1, ax2) = plt.subplots(2, 1, sharex=True)\n",
    "ax1.plot(d['training_avg_acc'], label='Training')\n",
    "ax1.plot(d['validation_avg_acc'], label='Validation')\n",
    "ax1.set_title('Accuracy over epochs')\n",
    "ax1.set_ylabel(\"Accuracy (%)\")\n",
    "ax1.legend(loc='bottom right')\n",
    "ax2.plot(d['training_avg_loss'], label='Training')\n",
    "ax2.plot(d['validation_avg_loss'], label='Validation')\n",
    "ax2.set_title('Loss over epochs')\n",
    "ax2.set_xlabel(\"Epochs\")\n",
    "ax2.set_ylabel(\"Loss\")\n",
    "ax2.legend(loc='upper right')\n",
    "f.savefig('model_stn_lr2_conv.png')"
   ]
  },
  {
   "cell_type": "code",
   "execution_count": 10,
   "metadata": {},
   "outputs": [
    {
     "name": "stdout",
     "output_type": "stream",
     "text": [
      "[98, 91.44702842377261]\n"
     ]
    }
   ],
   "source": [
    "d = pickle.load( open( \"convergencePlots_model_stn.p\", \"rb\" ) )\n",
    "print(d['best_val_acc'])\n",
    "f, (ax1, ax2) = plt.subplots(2, 1, sharex=True)\n",
    "ax1.plot(d['training_avg_acc'], label='Training')\n",
    "ax1.plot(d['validation_avg_acc'], label='Validation')\n",
    "ax1.set_title('Accuracy over epochs')\n",
    "ax1.set_ylabel(\"Accuracy (%)\")\n",
    "ax1.legend(loc='bottom right')\n",
    "ax2.plot(d['training_avg_loss'], label='Training')\n",
    "ax2.plot(d['validation_avg_loss'], label='Validation')\n",
    "ax2.set_title('Loss over epochs')\n",
    "ax2.set_xlabel(\"Epochs\")\n",
    "ax2.set_ylabel(\"Loss\")\n",
    "ax2.legend(loc='upper right')\n",
    "f.savefig('model_stn.png')"
   ]
  }
 ],
 "metadata": {
  "kernelspec": {
   "display_name": "Python 2",
   "language": "python",
   "name": "python2"
  },
  "language_info": {
   "codemirror_mode": {
    "name": "ipython",
    "version": 2
   },
   "file_extension": ".py",
   "mimetype": "text/x-python",
   "name": "python",
   "nbconvert_exporter": "python",
   "pygments_lexer": "ipython2",
   "version": "2.7.13"
  }
 },
 "nbformat": 4,
 "nbformat_minor": 2
}
